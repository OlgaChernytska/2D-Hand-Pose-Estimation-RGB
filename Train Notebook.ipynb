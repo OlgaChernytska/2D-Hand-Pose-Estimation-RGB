{
 "cells": [
  {
   "cell_type": "code",
   "execution_count": null,
   "metadata": {},
   "outputs": [],
   "source": [
    "%load_ext autoreload\n",
    "%autoreload 2\n",
    "%load_ext lab_black"
   ]
  },
  {
   "cell_type": "code",
   "execution_count": null,
   "metadata": {},
   "outputs": [],
   "source": [
    "import pandas as pd\n",
    "import numpy as np\n",
    "import os\n",
    "import json\n",
    "from PIL import Image\n",
    "import matplotlib.pyplot as plt\n",
    "import json\n",
    "\n",
    "import torch\n",
    "from torch.utils.data import DataLoader\n",
    "import torch.optim as optim\n",
    "import torch.nn as nn\n",
    "\n",
    "from utils.dataset import FreiHAND\n",
    "from utils.model import ShallowUNet\n",
    "from utils.trainer import Trainer\n",
    "from utils.prep_utils import (\n",
    "    blur_heatmaps,\n",
    "    IoULoss,\n",
    "    COLORMAP,\n",
    "    N_KEYPOINTS,\n",
    "    N_IMG_CHANNELS,\n",
    "    get_norm_params,\n",
    "    show_data,\n",
    ")"
   ]
  },
  {
   "cell_type": "markdown",
   "metadata": {},
   "source": [
    "### Train Parameters"
   ]
  },
  {
   "cell_type": "code",
   "execution_count": null,
   "metadata": {},
   "outputs": [],
   "source": [
    "config = {\n",
    "    \"data_dir\": \"data/FreiHAND_pub_v2\",\n",
    "    \"epochs\": 1000,\n",
    "    \"batch_size\": 2,\n",
    "    \"batches_per_epoch\": 1,\n",
    "    \"batches_per_epoch_val\": 1,\n",
    "    \"learning_rate\": 0.1,\n",
    "    \"device\": torch.device(\"cuda\" if torch.cuda.is_available() else \"cpu\"),\n",
    "}"
   ]
  },
  {
   "cell_type": "raw",
   "metadata": {},
   "source": [
    "# if you are going to change train/val/test split\n",
    "# you should recalculate normalization parameters\n",
    "# and save them as DATASET_MEANS, DATASET_STDS in utils.py\n",
    "get_norm_params(train_dataloader)"
   ]
  },
  {
   "cell_type": "markdown",
   "metadata": {},
   "source": [
    "## Data"
   ]
  },
  {
   "cell_type": "code",
   "execution_count": null,
   "metadata": {},
   "outputs": [],
   "source": [
    "train_dataset = FreiHAND(config=config, set_type=\"train\")\n",
    "train_dataloader = DataLoader(\n",
    "    train_dataset, config[\"batch_size\"], shuffle=True, drop_last=True, num_workers=2\n",
    ")\n",
    "\n",
    "val_dataset = FreiHAND(config=config, set_type=\"val\")\n",
    "val_dataloader = DataLoader(\n",
    "    val_dataset, config[\"batch_size\"], shuffle=True, drop_last=True, num_workers=2\n",
    ")"
   ]
  },
  {
   "cell_type": "code",
   "execution_count": null,
   "metadata": {},
   "outputs": [],
   "source": [
    "# visualize random batch of data train samples + labels\n",
    "show_data(train_dataset, n_samples=8)"
   ]
  },
  {
   "cell_type": "markdown",
   "metadata": {},
   "source": [
    "## Model"
   ]
  },
  {
   "cell_type": "code",
   "execution_count": null,
   "metadata": {},
   "outputs": [],
   "source": [
    "model = ShallowUNet(N_IMG_CHANNELS, N_KEYPOINTS)\n",
    "model = model.to(config[\"device\"])\n",
    "\n",
    "criterion = IoULoss()\n",
    "optimizer = optim.SGD(model.parameters(), lr=config[\"learning_rate\"])\n",
    "scheduler = optim.lr_scheduler.ReduceLROnPlateau(\n",
    "    optimizer=optimizer, factor=0.5, patience=20, verbose=True, threshold=0.00001\n",
    ")"
   ]
  },
  {
   "cell_type": "markdown",
   "metadata": {},
   "source": [
    "## Training"
   ]
  },
  {
   "cell_type": "code",
   "execution_count": null,
   "metadata": {
    "scrolled": true
   },
   "outputs": [],
   "source": [
    "# loss should be close to XXX\n",
    "trainer = Trainer(model, criterion, optimizer, config, scheduler)\n",
    "model = trainer.train(train_dataloader, val_dataloader)"
   ]
  },
  {
   "cell_type": "code",
   "execution_count": null,
   "metadata": {},
   "outputs": [],
   "source": [
    "plt.plot(trainer.loss[\"train\"], label=\"train\")\n",
    "plt.plot(trainer.loss[\"val\"], label=\"val\")\n",
    "plt.legend()\n",
    "plt.show()"
   ]
  },
  {
   "cell_type": "code",
   "execution_count": null,
   "metadata": {},
   "outputs": [],
   "source": []
  }
 ],
 "metadata": {
  "environment": {
   "name": "pytorch-gpu.1-8.m65",
   "type": "gcloud",
   "uri": "gcr.io/deeplearning-platform-release/pytorch-gpu.1-8:m65"
  },
  "kernelspec": {
   "display_name": "Python 3",
   "language": "python",
   "name": "python3"
  },
  "language_info": {
   "codemirror_mode": {
    "name": "ipython",
    "version": 3
   },
   "file_extension": ".py",
   "mimetype": "text/x-python",
   "name": "python",
   "nbconvert_exporter": "python",
   "pygments_lexer": "ipython3",
   "version": "3.7.10"
  }
 },
 "nbformat": 4,
 "nbformat_minor": 4
}
