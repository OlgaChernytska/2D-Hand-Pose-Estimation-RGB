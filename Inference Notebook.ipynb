{
 "cells": [
  {
   "cell_type": "code",
   "execution_count": null,
   "metadata": {},
   "outputs": [],
   "source": [
    "%load_ext autoreload\n",
    "%autoreload 2\n",
    "%load_ext lab_black"
   ]
  },
  {
   "cell_type": "code",
   "execution_count": null,
   "metadata": {},
   "outputs": [],
   "source": [
    "import pandas as pd\n",
    "import numpy as np\n",
    "import matplotlib.pyplot as plt\n",
    "import os\n",
    "from PIL import Image\n",
    "import json\n",
    "import cv2\n",
    "from tqdm import tqdm\n",
    "import torch\n",
    "from torch.utils.data import DataLoader\n",
    "\n",
    "from utils.prep_utils import (\n",
    "    COLORMAP,\n",
    "    heatmaps_to_coordinates,\n",
    "    N_KEYPOINTS,\n",
    "    RAW_IMG_SIZE,\n",
    "    MODEL_IMG_SIZE,\n",
    "    show_batch_predictions,\n",
    "    DATASET_MEANS,\n",
    "    DATASET_STDS,\n",
    ")\n",
    "from utils.model import ShallowUNet\n",
    "from utils.dataset import FreiHAND"
   ]
  },
  {
   "cell_type": "markdown",
   "metadata": {},
   "source": [
    "### Inference Parametes"
   ]
  },
  {
   "cell_type": "code",
   "execution_count": null,
   "metadata": {},
   "outputs": [],
   "source": [
    "config = {\n",
    "    \"data_dir\": \"data/FreiHAND_pub_v2\",\n",
    "    \"model_path\": \"model_200_working\",\n",
    "    \"test_batch_size\": 4,\n",
    "    \"device\": \"cpu\",\n",
    "}"
   ]
  },
  {
   "cell_type": "markdown",
   "metadata": {},
   "source": [
    "## Data"
   ]
  },
  {
   "cell_type": "code",
   "execution_count": null,
   "metadata": {},
   "outputs": [],
   "source": [
    "test_dataset = FreiHAND(config=config, set_type=\"test\")\n",
    "test_dataloader = DataLoader(\n",
    "    test_dataset,\n",
    "    config[\"test_batch_size\"],\n",
    "    shuffle=True,\n",
    "    drop_last=False,\n",
    "    num_workers=2,\n",
    ")"
   ]
  },
  {
   "cell_type": "markdown",
   "metadata": {},
   "source": [
    "## Model"
   ]
  },
  {
   "cell_type": "code",
   "execution_count": null,
   "metadata": {},
   "outputs": [],
   "source": [
    "model = ShallowUNet(3, 21)\n",
    "model.load_state_dict(\n",
    "    torch.load(config[\"model_path\"], map_location=torch.device(config[\"device\"]))\n",
    ")\n",
    "model.eval()\n",
    "print(\"Model loaded\")"
   ]
  },
  {
   "cell_type": "markdown",
   "metadata": {},
   "source": [
    "## Evaluate on Test Data"
   ]
  },
  {
   "cell_type": "code",
   "execution_count": null,
   "metadata": {},
   "outputs": [],
   "source": [
    "accuracy_all = []\n",
    "\n",
    "for data in tqdm(test_dataloader):\n",
    "    inputs = data[\"image\"]\n",
    "    pred_heatmaps = model(inputs)\n",
    "    pred_heatmaps = pred_heatmaps.detach().numpy()\n",
    "    true_keypoints = data[\"keypoints\"].numpy()\n",
    "    pred_keypoints = heatmaps_to_coordinates(pred_heatmaps)\n",
    "\n",
    "    accuracy_keypoint = ((true_keypoints - pred_keypoints) ** 2).sum(axis=2) ** (1 / 2)\n",
    "    accuracy_image = accuracy_keypoint.mean(axis=1)\n",
    "    accuracy_all.extend(list(accuracy_image))"
   ]
  },
  {
   "cell_type": "code",
   "execution_count": null,
   "metadata": {},
   "outputs": [],
   "source": [
    "error = np.mean(accuracy_all)\n",
    "print(\"Average error per keypoint: {:.1f}% from image size\".format(error * 100))\n",
    "\n",
    "for img_size in [MODEL_IMG_SIZE, RAW_IMG_SIZE]:\n",
    "    error_pixels = error * img_size\n",
    "    image_size = f\"{img_size}x{img_size}\"\n",
    "    print(\n",
    "        \"Average error per keypoint: {:.0f} pixels for image {}\".format(\n",
    "            error_pixels, image_size\n",
    "        )\n",
    "    )"
   ]
  },
  {
   "cell_type": "markdown",
   "metadata": {},
   "source": [
    "## Inference on Test Data"
   ]
  },
  {
   "cell_type": "code",
   "execution_count": null,
   "metadata": {},
   "outputs": [],
   "source": [
    "for data in test_dataloader:\n",
    "    show_batch_predictions(data, model)\n",
    "    break"
   ]
  }
 ],
 "metadata": {
  "environment": {
   "name": "pytorch-gpu.1-8.m65",
   "type": "gcloud",
   "uri": "gcr.io/deeplearning-platform-release/pytorch-gpu.1-8:m65"
  },
  "kernelspec": {
   "display_name": "Python 3",
   "language": "python",
   "name": "python3"
  },
  "language_info": {
   "codemirror_mode": {
    "name": "ipython",
    "version": 3
   },
   "file_extension": ".py",
   "mimetype": "text/x-python",
   "name": "python",
   "nbconvert_exporter": "python",
   "pygments_lexer": "ipython3",
   "version": "3.7.10"
  }
 },
 "nbformat": 4,
 "nbformat_minor": 4
}
